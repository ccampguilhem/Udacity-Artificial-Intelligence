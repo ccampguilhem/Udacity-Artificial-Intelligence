{
 "cells": [
  {
   "cell_type": "markdown",
   "metadata": {},
   "source": [
    "# Backpropagation with NumPy"
   ]
  },
  {
   "cell_type": "code",
   "execution_count": 2,
   "metadata": {},
   "outputs": [],
   "source": [
    "import numpy as np\n",
    "from data_prep import features, targets, features_test, targets_test\n",
    "\n",
    "np.random.seed(21)"
   ]
  },
  {
   "cell_type": "markdown",
   "metadata": {},
   "source": [
    "We use the sigmoid function as activation function:"
   ]
  },
  {
   "cell_type": "code",
   "execution_count": 3,
   "metadata": {},
   "outputs": [],
   "source": [
    "def sigmoid(x):\n",
    "    \"\"\"\n",
    "    Calculate sigmoid\n",
    "    \"\"\"\n",
    "    return 1 / (1 + np.exp(-x))"
   ]
  },
  {
   "cell_type": "markdown",
   "metadata": {},
   "source": [
    "We define the hyperparameters of the network:"
   ]
  },
  {
   "cell_type": "code",
   "execution_count": 4,
   "metadata": {},
   "outputs": [],
   "source": [
    "# Hyperparameters\n",
    "n_hidden = 2  # number of hidden units\n",
    "epochs = 900\n",
    "learnrate = 0.005\n",
    "\n",
    "n_records, n_features = features.shape"
   ]
  },
  {
   "cell_type": "markdown",
   "metadata": {},
   "source": [
    "The error term for the output layer is\n",
    "\n",
    "$$\n",
    "\\large \\delta_k^0 = (y_k - \\hat y_k) f'(a_k)\n",
    "$$\n",
    "\n",
    "where $a_k$ is the input of activation function of the output layer\n",
    "\n",
    "The error term for the hidden layer is:\n",
    "\n",
    "$$\n",
    "\\large \\delta_j^h = \\sum_k w_{jk} \\delta_k^0 f'(h_j)\n",
    "$$\n",
    "\n",
    "where $h_j$ is the input of activation function of the considered hidden layer and $w_{jk}$ the weights of the hidden layer.\n",
    "\n",
    "For now we'll only consider a simple network with one hidden layer and one output unit. Here's the general algorithm for updating the weights with backpropagation:\n",
    "\n",
    "- Set the weight steps for each layer to zero\n",
    "    - The input to hidden weights $\\large \\Delta w_{ij} = 0$\n",
    "    - The hidden to output weights $\\large \\Delta W_j = 0$\n",
    "\n",
    "- For each record in the training data:\n",
    "    - Make a forward pass through the network, calculating the output $\\hat y$\n",
    "    - Calculate the error gradient in the output unit, $\\large \\delta^o = (y - \\hat y) f'(z)$ where $\\large z = \\sum_j W_j a_j$, the input to the output unit.\n",
    "    - Propagate the errors to the hidden layer $\\large \\delta^h_j = \\delta^o W_j f'(h_j)$\n",
    "    - Update the weight steps:\n",
    "        - $\\large \\Delta W_j = \\Delta W_j + \\delta^o a_j$\n",
    "        - $\\large \\Delta w_{ij} = \\Delta w_{ij} + \\delta^h_j a_i$\n",
    "    - Update the weights, where $\\eta$ is the learning rate and m is the number of records:\n",
    "        - $\\large W_j = W_j + \\eta \\Delta W_j / m$ \n",
    "        - $\\large w_{ij} = w_{ij} + \\eta \\Delta w_{ij} / m$\n",
    "\n",
    "Repeat for each epochs.\n",
    "\n",
    "It is worth mentioning than the derivative of the sigmoid function is:\n",
    "\n",
    "$$\n",
    "\\large \\frac{d\\sigma(x)}{dx}=\\frac{d(\\frac{1}{1 + e^{-x}})}{dx}=\\sigma(x) (1 - \\sigma(x))\n",
    "$$\n"
   ]
  },
  {
   "cell_type": "markdown",
   "metadata": {},
   "source": [
    "Initialisations:"
   ]
  },
  {
   "cell_type": "code",
   "execution_count": 12,
   "metadata": {},
   "outputs": [],
   "source": [
    "# Initialize weights\n",
    "last_loss = None\n",
    "weights_input_hidden = np.random.normal(scale=1 / n_features ** .5,\n",
    "                                        size=(n_features, n_hidden))\n",
    "weights_hidden_output = np.random.normal(scale=1 / n_features ** .5,\n",
    "                                         size=n_hidden)"
   ]
  },
  {
   "cell_type": "markdown",
   "metadata": {},
   "source": [
    "Training the neural network:"
   ]
  },
  {
   "cell_type": "code",
   "execution_count": 15,
   "metadata": {},
   "outputs": [
    {
     "name": "stdout",
     "output_type": "stream",
     "text": [
      "Train loss:  0.2322890488431587   WARNING - Loss Increasing\n",
      "Train loss:  0.23236490218090908   WARNING - Loss Increasing\n",
      "Train loss:  0.23240821559250327   WARNING - Loss Increasing\n",
      "Train loss:  0.23243397786689696   WARNING - Loss Increasing\n",
      "Train loss:  0.23245187148693813   WARNING - Loss Increasing\n",
      "Train loss:  0.23246786150573379   WARNING - Loss Increasing\n",
      "Train loss:  0.2324853374967743   WARNING - Loss Increasing\n",
      "Train loss:  0.2325059457456811   WARNING - Loss Increasing\n",
      "Train loss:  0.23253019120735544   WARNING - Loss Increasing\n",
      "Train loss:  0.2325578648838207   WARNING - Loss Increasing\n"
     ]
    }
   ],
   "source": [
    "for e in range(epochs):\n",
    "    del_w_input_hidden = np.zeros(weights_input_hidden.shape)\n",
    "    del_w_hidden_output = np.zeros(weights_hidden_output.shape)\n",
    "    for x, y in zip(features.values, targets):\n",
    "        ## Forward pass ##\n",
    "        # TODO: Calculate the output\n",
    "        hidden_input = np.dot(x, weights_input_hidden) # we do this instead of w * x due to broadcasting issues\n",
    "        hidden_output = sigmoid(hidden_input)\n",
    "        output = sigmoid(np.dot(hidden_output, weights_hidden_output))\n",
    "\n",
    "        ## Backward pass ##\n",
    "        # TODO: Calculate the network's prediction error\n",
    "        error = y - output\n",
    "\n",
    "        # TODO: Calculate error term for the output unit\n",
    "        output_error_term = error * output * (1 - output) # the error term is error * derivative of sigmoid\n",
    "\n",
    "        ## propagate errors to hidden layer\n",
    "\n",
    "        # TODO: Calculate the hidden layer's contribution to the error\n",
    "        hidden_error = np.dot(output_error_term, weights_hidden_output) # we use weights of hidden layer\n",
    "        \n",
    "        # TODO: Calculate the error term for the hidden layer\n",
    "        hidden_error_term = hidden_error * hidden_output * (1 - hidden_output) #we use sigmoid of hidden layer\n",
    "        \n",
    "        # TODO: Update the change in weights\n",
    "        del_w_hidden_output += output_error_term * hidden_output # we multiply by input of output layer\n",
    "        del_w_input_hidden += hidden_error_term * x[:, None] # we multiply by input of hidden layer\n",
    "\n",
    "    # TODO: Update weights  (don't forget to division by n_records or number of samples)\n",
    "    weights_input_hidden += del_w_input_hidden / n_records\n",
    "    weights_hidden_output += del_w_hidden_output / n_records\n",
    "\n",
    "    # Printing out the mean square error on the training set\n",
    "    if e % (epochs / 10) == 0:\n",
    "        hidden_output = sigmoid(np.dot(x, weights_input_hidden))\n",
    "        out = sigmoid(np.dot(hidden_output,\n",
    "                             weights_hidden_output))\n",
    "        loss = np.mean((out - targets) ** 2)\n",
    "\n",
    "        if last_loss and last_loss < loss:\n",
    "            print(\"Train loss: \", loss, \"  WARNING - Loss Increasing\")\n",
    "        else:\n",
    "            print(\"Train loss: \", loss)\n",
    "        last_loss = loss"
   ]
  },
  {
   "cell_type": "markdown",
   "metadata": {},
   "source": [
    "Neural Network accuracy:"
   ]
  },
  {
   "cell_type": "code",
   "execution_count": 14,
   "metadata": {},
   "outputs": [
    {
     "name": "stdout",
     "output_type": "stream",
     "text": [
      "Prediction accuracy: 0.650\n"
     ]
    }
   ],
   "source": [
    "# Calculate accuracy on test data\n",
    "hidden = sigmoid(np.dot(features_test, weights_input_hidden))\n",
    "out = sigmoid(np.dot(hidden, weights_hidden_output))\n",
    "predictions = out > 0.5\n",
    "accuracy = np.mean(predictions == targets_test)\n",
    "print(\"Prediction accuracy: {:.3f}\".format(accuracy))"
   ]
  },
  {
   "cell_type": "code",
   "execution_count": null,
   "metadata": {},
   "outputs": [],
   "source": []
  }
 ],
 "metadata": {
  "kernelspec": {
   "display_name": "Python 3",
   "language": "python",
   "name": "python3"
  },
  "language_info": {
   "codemirror_mode": {
    "name": "ipython",
    "version": 3
   },
   "file_extension": ".py",
   "mimetype": "text/x-python",
   "name": "python",
   "nbconvert_exporter": "python",
   "pygments_lexer": "ipython3",
   "version": "3.7.3"
  }
 },
 "nbformat": 4,
 "nbformat_minor": 2
}
